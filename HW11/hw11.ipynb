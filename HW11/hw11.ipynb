{
 "cells": [
  {
   "cell_type": "markdown",
   "metadata": {},
   "source": [
    "# Text Classification\n",
    "\n",
    "Using neural networks, we will classify pieces of text according to the emotions they invoke. The dataset can be obtained [here](https://www.kaggle.com/datasets/ishantjuyal/emotions-in-text). The data consists of two columns: the first column is the text, and the second column is a manually annotated emotion associated with each text. We will make models that take the text as input and predict what category of emotion that text should be associated with."
   ]
  },
  {
   "cell_type": "markdown",
   "metadata": {},
   "source": [
    "## Data Exploration"
   ]
  },
  {
   "cell_type": "markdown",
   "metadata": {},
   "source": [
    "First, we'll read in the data."
   ]
  },
  {
   "cell_type": "code",
   "execution_count": 73,
   "metadata": {},
   "outputs": [],
   "source": [
    "import pandas as pd\n",
    "\n",
    "df = pd.read_csv('data/Emotion_final.csv')\n",
    "df.dropna() # drop rows with missing data\n",
    "df['EmotionAsFactor'] = pd.factorize(df.Emotion)[0] # convert Emotion column to ints"
   ]
  },
  {
   "cell_type": "markdown",
   "metadata": {},
   "source": [
    "We'll make a frequency graph of all the classes."
   ]
  },
  {
   "cell_type": "code",
   "execution_count": 74,
   "metadata": {},
   "outputs": [
    {
     "data": {
      "text/plain": [
       "<seaborn.axisgrid.FacetGrid at 0x22d8b39ac50>"
      ]
     },
     "execution_count": 74,
     "metadata": {},
     "output_type": "execute_result"
    },
    {
     "data": {
      "image/png": "[encoded data removed]",
      "text/plain": [
       "<Figure size 500x500 with 1 Axes>"
      ]
     },
     "metadata": {},
     "output_type": "display_data"
    }
   ],
   "source": [
    "import seaborn as sb\n",
    "\n",
    "sb.catplot(x='Emotion', kind='count', data=df[['Emotion']])"
   ]
  },
  {
   "cell_type": "markdown",
   "metadata": {},
   "source": [
    "The data is slightly unbalanced in favor of happiness and sadness. Fortunately, the other categories are represented enough that any model cannot achieve an accuracy of over 70% by exclusively guessing those two categories."
   ]
  },
  {
   "cell_type": "markdown",
   "metadata": {},
   "source": [
    "## Model Training\n",
    "\n",
    "First, we will divide the data into train and test sets. Every model we create will use the same label data, so we also go ahead and encode the target columns in both sets. The input data will have to be separately encoded depending on the type of model being created."
   ]
  },
  {
   "cell_type": "code",
   "execution_count": 75,
   "metadata": {},
   "outputs": [],
   "source": [
    "import tensorflow as tf\n",
    "from tensorflow.keras.preprocessing.text import Tokenizer\n",
    "from sklearn.preprocessing import LabelEncoder\n",
    "import numpy as np\n",
    "\n",
    "# setting random seeds\n",
    "tf.keras.utils.set_random_seed(1234)\n",
    "np.random.seed(1234)\n",
    "\n",
    "# train/test split\n",
    "i = np.random.rand(len(df)) < 0.8\n",
    "train = df[i]\n",
    "test = df[~i]\n",
    "\n",
    "num_classes = df.EmotionAsFactor.nunique()\n",
    "vocab_size = 20000\n",
    "\n",
    "tokenizer = Tokenizer(num_words=vocab_size)\n",
    "tokenizer.fit_on_texts(train.Text)\n",
    "\n",
    "# encode label column\n",
    "encoder = LabelEncoder()\n",
    "encoder.fit(train.EmotionAsFactor)\n",
    "y_train = encoder.transform(train.EmotionAsFactor)\n",
    "y_test = encoder.transform(test.EmotionAsFactor)"
   ]
  },
  {
   "cell_type": "markdown",
   "metadata": {},
   "source": [
    "### Sequential Neural Network\n",
    "\n",
    "We will make a dense sequential neural network and evaluate it on the test data. For this model, the input data is transformed to matrices according to the tf-idf frequency measure."
   ]
  },
  {
   "cell_type": "code",
   "execution_count": 102,
   "metadata": {},
   "outputs": [
    {
     "name": "stdout",
     "output_type": "stream",
     "text": [
      "Epoch 1/30\n",
      "108/108 [==============================] - 3s 20ms/step - loss: 1.6612 - sparse_categorical_accuracy: 0.3303 - val_loss: 1.6081 - val_sparse_categorical_accuracy: 0.2958\n",
      "Epoch 2/30\n",
      "108/108 [==============================] - 2s 16ms/step - loss: 1.5411 - sparse_categorical_accuracy: 0.3395 - val_loss: 1.5832 - val_sparse_categorical_accuracy: 0.2958\n",
      "Epoch 3/30\n",
      "108/108 [==============================] - 2s 16ms/step - loss: 1.4608 - sparse_categorical_accuracy: 0.3395 - val_loss: 1.5434 - val_sparse_categorical_accuracy: 0.2964\n",
      "Epoch 4/30\n",
      "108/108 [==============================] - 2s 16ms/step - loss: 1.3499 - sparse_categorical_accuracy: 0.3461 - val_loss: 1.4970 - val_sparse_categorical_accuracy: 0.3074\n",
      "Epoch 5/30\n",
      "108/108 [==============================] - 2s 16ms/step - loss: 1.2130 - sparse_categorical_accuracy: 0.4070 - val_loss: 1.4270 - val_sparse_categorical_accuracy: 0.4006\n",
      "Epoch 6/30\n",
      "108/108 [==============================] - 2s 15ms/step - loss: 1.0520 - sparse_categorical_accuracy: 0.5453 - val_loss: 1.3698 - val_sparse_categorical_accuracy: 0.5272\n",
      "Epoch 7/30\n",
      "108/108 [==============================] - 2s 16ms/step - loss: 0.8561 - sparse_categorical_accuracy: 0.6945 - val_loss: 1.2697 - val_sparse_categorical_accuracy: 0.5683\n",
      "Epoch 8/30\n",
      "108/108 [==============================] - 2s 16ms/step - loss: 0.6502 - sparse_categorical_accuracy: 0.7673 - val_loss: 1.2006 - val_sparse_categorical_accuracy: 0.6274\n",
      "Epoch 9/30\n",
      "108/108 [==============================] - 2s 15ms/step - loss: 0.4981 - sparse_categorical_accuracy: 0.8535 - val_loss: 1.1787 - val_sparse_categorical_accuracy: 0.6687\n",
      "Epoch 10/30\n",
      "108/108 [==============================] - 2s 16ms/step - loss: 0.3860 - sparse_categorical_accuracy: 0.8975 - val_loss: 1.1717 - val_sparse_categorical_accuracy: 0.6801\n",
      "Epoch 11/30\n",
      "108/108 [==============================] - 2s 16ms/step - loss: 0.2987 - sparse_categorical_accuracy: 0.9174 - val_loss: 1.1794 - val_sparse_categorical_accuracy: 0.6891\n",
      "Epoch 12/30\n",
      "108/108 [==============================] - 2s 23ms/step - loss: 0.2356 - sparse_categorical_accuracy: 0.9253 - val_loss: 1.1846 - val_sparse_categorical_accuracy: 0.6964\n",
      "Epoch 13/30\n",
      "108/108 [==============================] - 2s 19ms/step - loss: 0.1918 - sparse_categorical_accuracy: 0.9343 - val_loss: 1.1989 - val_sparse_categorical_accuracy: 0.6961\n",
      "Epoch 14/30\n",
      "108/108 [==============================] - 2s 16ms/step - loss: 0.1592 - sparse_categorical_accuracy: 0.9515 - val_loss: 1.2229 - val_sparse_categorical_accuracy: 0.7031\n",
      "Epoch 15/30\n",
      "108/108 [==============================] - 2s 17ms/step - loss: 0.1332 - sparse_categorical_accuracy: 0.9650 - val_loss: 1.2542 - val_sparse_categorical_accuracy: 0.7112\n",
      "Epoch 16/30\n",
      "108/108 [==============================] - 2s 16ms/step - loss: 0.1126 - sparse_categorical_accuracy: 0.9720 - val_loss: 1.2978 - val_sparse_categorical_accuracy: 0.7100\n",
      "Epoch 17/30\n",
      "108/108 [==============================] - 2s 17ms/step - loss: 0.0965 - sparse_categorical_accuracy: 0.9762 - val_loss: 1.2987 - val_sparse_categorical_accuracy: 0.7095\n",
      "Epoch 18/30\n",
      "108/108 [==============================] - 2s 17ms/step - loss: 0.0836 - sparse_categorical_accuracy: 0.9792 - val_loss: 1.3139 - val_sparse_categorical_accuracy: 0.7135\n",
      "Epoch 19/30\n",
      "108/108 [==============================] - 2s 17ms/step - loss: 0.0737 - sparse_categorical_accuracy: 0.9810 - val_loss: 1.3397 - val_sparse_categorical_accuracy: 0.7138\n",
      "Epoch 20/30\n",
      "108/108 [==============================] - 2s 16ms/step - loss: 0.0656 - sparse_categorical_accuracy: 0.9832 - val_loss: 1.3787 - val_sparse_categorical_accuracy: 0.7112\n",
      "Epoch 21/30\n",
      "108/108 [==============================] - 2s 17ms/step - loss: 0.0590 - sparse_categorical_accuracy: 0.9849 - val_loss: 1.4459 - val_sparse_categorical_accuracy: 0.7112\n",
      "Epoch 22/30\n",
      "108/108 [==============================] - 2s 18ms/step - loss: 0.0532 - sparse_categorical_accuracy: 0.9856 - val_loss: 1.4692 - val_sparse_categorical_accuracy: 0.7135\n",
      "Epoch 23/30\n",
      "108/108 [==============================] - 2s 18ms/step - loss: 0.0489 - sparse_categorical_accuracy: 0.9861 - val_loss: 1.5086 - val_sparse_categorical_accuracy: 0.7135\n",
      "Epoch 24/30\n",
      "108/108 [==============================] - 2s 16ms/step - loss: 0.0441 - sparse_categorical_accuracy: 0.9874 - val_loss: 1.5271 - val_sparse_categorical_accuracy: 0.7045\n",
      "Epoch 25/30\n",
      "108/108 [==============================] - 2s 16ms/step - loss: 0.0403 - sparse_categorical_accuracy: 0.9885 - val_loss: 1.5533 - val_sparse_categorical_accuracy: 0.7103\n",
      "Epoch 26/30\n",
      "108/108 [==============================] - 2s 15ms/step - loss: 0.0371 - sparse_categorical_accuracy: 0.9895 - val_loss: 1.5524 - val_sparse_categorical_accuracy: 0.7068\n",
      "Epoch 27/30\n",
      "108/108 [==============================] - 2s 15ms/step - loss: 0.0339 - sparse_categorical_accuracy: 0.9902 - val_loss: 1.6183 - val_sparse_categorical_accuracy: 0.7048\n",
      "Epoch 28/30\n",
      "108/108 [==============================] - 2s 15ms/step - loss: 0.0313 - sparse_categorical_accuracy: 0.9907 - val_loss: 1.6403 - val_sparse_categorical_accuracy: 0.7086\n",
      "Epoch 29/30\n",
      "108/108 [==============================] - 2s 15ms/step - loss: 0.0288 - sparse_categorical_accuracy: 0.9909 - val_loss: 1.6565 - val_sparse_categorical_accuracy: 0.7080\n",
      "Epoch 30/30\n",
      "108/108 [==============================] - 2s 15ms/step - loss: 0.0270 - sparse_categorical_accuracy: 0.9915 - val_loss: 1.7001 - val_sparse_categorical_accuracy: 0.7039\n",
      "134/134 [==============================] - 1s 4ms/step\n",
      "\n",
      "accuracy:  0.8332555970149254\n"
     ]
    }
   ],
   "source": [
    "from tensorflow.keras import layers, models\n",
    "from sklearn.metrics import accuracy_score, precision_score, recall_score, f1_score\n",
    "\n",
    "batch_size = 128\n",
    "num_epochs = 30\n",
    "\n",
    "# transform input\n",
    "x_train = tokenizer.texts_to_matrix(train.Text, mode='tfidf')\n",
    "x_test = tokenizer.texts_to_matrix(test.Text, mode='tfidf')\n",
    "\n",
    "# define model topology\n",
    "model_seq = models.Sequential()\n",
    "model_seq.add(layers.Dense(16, kernel_initializer='normal', activation='sigmoid'))\n",
    "model_seq.add(layers.Dense(16, kernel_initializer='normal', activation='relu'))\n",
    "model_seq.add(layers.Dense(num_classes, input_dim=vocab_size, kernel_initializer='normal', activation='softmax'))\n",
    "\n",
    "# train\n",
    "model_seq.compile(\n",
    "    loss='sparse_categorical_crossentropy',\n",
    "    optimizer='rmsprop',\n",
    "    metrics=['sparse_categorical_accuracy']\n",
    ")\n",
    "\n",
    "# apply to test data\n",
    "model_seq.fit(\n",
    "    x_train, y_train,\n",
    "    batch_size=batch_size,\n",
    "    epochs=num_epochs,\n",
    "    validation_split=0.2\n",
    ")\n",
    "\n",
    "pred_seq = model_seq.predict(x_test) # get predictions as label probabilities\n",
    "pred_seq = np.argmax(pred_seq, axis=1) # get most likely label from probabilities\n",
    "\n",
    "print('\\naccuracy: ', accuracy_score(y_test, pred_seq))"
   ]
  },
  {
   "cell_type": "markdown",
   "metadata": {},
   "source": [
    "We get a fairly good accuracy of just over 80% with this simple network. This is fairly promising.\n",
    "\n",
    "Also note that we used the softmax activation function in the last layer of the model, and the number of output nodes is equal to the number of classes. This has to be done to make the network topology compatible with multiclass classification, and the same will be done for all future models. For similar reasons, 'sparse_categorical_crossentropy' must be the loss function used during each model's compilation step."
   ]
  },
  {
   "cell_type": "markdown",
   "metadata": {},
   "source": [
    "### Convolutional Neural Network\n",
    "\n",
    "We will now create a convolutional network and evaluate it. For this model, the inputs are transformed to sequences with an arbitrary maximum length of 500. The number of epochs has been reduced in the interest of training the model more quickly."
   ]
  },
  {
   "cell_type": "code",
   "execution_count": 86,
   "metadata": {},
   "outputs": [
    {
     "name": "stdout",
     "output_type": "stream",
     "text": [
      "Epoch 1/20\n",
      "108/108 [==============================] - 31s 260ms/step - loss: 1.5820 - sparse_categorical_accuracy: 0.3342 - val_loss: 1.6207 - val_sparse_categorical_accuracy: 0.3071\n",
      "Epoch 2/20\n",
      "108/108 [==============================] - 31s 287ms/step - loss: 1.5690 - sparse_categorical_accuracy: 0.3438 - val_loss: 1.6353 - val_sparse_categorical_accuracy: 0.2958\n",
      "Epoch 3/20\n",
      "108/108 [==============================] - 34s 311ms/step - loss: 1.5508 - sparse_categorical_accuracy: 0.3613 - val_loss: 1.6015 - val_sparse_categorical_accuracy: 0.3493\n",
      "Epoch 4/20\n",
      "108/108 [==============================] - 34s 315ms/step - loss: 1.4283 - sparse_categorical_accuracy: 0.4512 - val_loss: 1.4726 - val_sparse_categorical_accuracy: 0.4224\n",
      "Epoch 5/20\n",
      "108/108 [==============================] - 33s 304ms/step - loss: 1.1790 - sparse_categorical_accuracy: 0.5614 - val_loss: 1.3101 - val_sparse_categorical_accuracy: 0.5013\n",
      "Epoch 6/20\n",
      "108/108 [==============================] - 28s 262ms/step - loss: 0.9636 - sparse_categorical_accuracy: 0.6402 - val_loss: 1.2338 - val_sparse_categorical_accuracy: 0.5418\n",
      "Epoch 7/20\n",
      "108/108 [==============================] - 28s 256ms/step - loss: 0.7839 - sparse_categorical_accuracy: 0.7085 - val_loss: 1.1907 - val_sparse_categorical_accuracy: 0.5552\n",
      "Epoch 8/20\n",
      "108/108 [==============================] - 28s 262ms/step - loss: 0.6590 - sparse_categorical_accuracy: 0.7592 - val_loss: 1.1912 - val_sparse_categorical_accuracy: 0.5665\n",
      "Epoch 9/20\n",
      "108/108 [==============================] - 28s 261ms/step - loss: 0.5706 - sparse_categorical_accuracy: 0.7958 - val_loss: 1.2532 - val_sparse_categorical_accuracy: 0.5738\n",
      "Epoch 10/20\n",
      "108/108 [==============================] - 29s 265ms/step - loss: 0.5071 - sparse_categorical_accuracy: 0.8195 - val_loss: 1.2710 - val_sparse_categorical_accuracy: 0.5825\n",
      "Epoch 11/20\n",
      "108/108 [==============================] - 29s 273ms/step - loss: 0.4557 - sparse_categorical_accuracy: 0.8402 - val_loss: 1.3253 - val_sparse_categorical_accuracy: 0.5825\n",
      "Epoch 12/20\n",
      "108/108 [==============================] - 37s 346ms/step - loss: 0.4117 - sparse_categorical_accuracy: 0.8540 - val_loss: 1.3622 - val_sparse_categorical_accuracy: 0.5805\n",
      "Epoch 13/20\n",
      "108/108 [==============================] - 38s 352ms/step - loss: 0.3715 - sparse_categorical_accuracy: 0.8668 - val_loss: 1.4371 - val_sparse_categorical_accuracy: 0.5793\n",
      "Epoch 14/20\n",
      "108/108 [==============================] - 38s 348ms/step - loss: 0.3420 - sparse_categorical_accuracy: 0.8749 - val_loss: 1.6312 - val_sparse_categorical_accuracy: 0.5776\n",
      "Epoch 15/20\n",
      "108/108 [==============================] - 38s 349ms/step - loss: 0.3153 - sparse_categorical_accuracy: 0.8852 - val_loss: 1.6846 - val_sparse_categorical_accuracy: 0.5718\n",
      "Epoch 16/20\n",
      "108/108 [==============================] - 38s 349ms/step - loss: 0.2939 - sparse_categorical_accuracy: 0.8907 - val_loss: 1.6600 - val_sparse_categorical_accuracy: 0.5726\n",
      "Epoch 17/20\n",
      "108/108 [==============================] - 38s 347ms/step - loss: 0.2750 - sparse_categorical_accuracy: 0.8964 - val_loss: 1.7408 - val_sparse_categorical_accuracy: 0.5761\n",
      "Epoch 18/20\n",
      "108/108 [==============================] - 37s 347ms/step - loss: 0.2585 - sparse_categorical_accuracy: 0.9016 - val_loss: 1.8199 - val_sparse_categorical_accuracy: 0.5654\n",
      "Epoch 19/20\n",
      "108/108 [==============================] - 38s 351ms/step - loss: 0.2460 - sparse_categorical_accuracy: 0.9055 - val_loss: 1.8998 - val_sparse_categorical_accuracy: 0.5575\n",
      "Epoch 20/20\n",
      "108/108 [==============================] - 35s 327ms/step - loss: 0.2356 - sparse_categorical_accuracy: 0.9080 - val_loss: 1.9785 - val_sparse_categorical_accuracy: 0.5706\n",
      "134/134 [==============================] - 2s 16ms/step\n",
      "\n",
      "accuracy:  0.6450559701492538\n"
     ]
    }
   ],
   "source": [
    "from tensorflow.keras.preprocessing.sequence import pad_sequences\n",
    "\n",
    "max_len = 500\n",
    "batch_size = 128\n",
    "num_epochs = 20\n",
    "\n",
    "x_train = pad_sequences(tokenizer.texts_to_sequences(train.Text), maxlen=max_len)\n",
    "x_test  = pad_sequences(tokenizer.texts_to_sequences(test.Text), maxlen=max_len)\n",
    "\n",
    "model_cnn = models.Sequential()\n",
    "model_cnn.add(layers.Embedding(vocab_size, 128, input_length=max_len)) \n",
    "model_cnn.add(layers.Conv1D(32, 7, activation='relu')) \n",
    "model_cnn.add(layers.MaxPooling1D(5)) \n",
    "model_cnn.add(layers.Conv1D(32, 7, activation='relu')) \n",
    "model_cnn.add(layers.GlobalMaxPooling1D())\n",
    "model_cnn.add(layers.Dense(num_classes, activation='softmax'))\n",
    "\n",
    "model_cnn.compile(\n",
    "    loss='sparse_categorical_crossentropy',\n",
    "    optimizer='rmsprop',\n",
    "    metrics=['sparse_categorical_accuracy']\n",
    ")\n",
    " \n",
    "model_cnn.fit(\n",
    "    x_train, y_train,\n",
    "    batch_size=batch_size,\n",
    "    epochs=num_epochs,\n",
    "    validation_split=0.2\n",
    ")\n",
    "\n",
    "pred_cnn = model_cnn.predict(x_test)\n",
    "pred_cnn = np.argmax(pred_cnn, axis=1)\n",
    "\n",
    "print('\\naccuracy: ', accuracy_score(y_test, pred_cnn))"
   ]
  },
  {
   "cell_type": "markdown",
   "metadata": {},
   "source": [
    "The accuracy of this CNN is unfortunately much lower than our original sequential network. The accuracy seems to have been increasing at a steady rate between all the epochs, so it is likely that more epochs or a greater batch size would result in a more accurate model."
   ]
  },
  {
   "cell_type": "markdown",
   "metadata": {},
   "source": [
    "### Embeddings\n",
    "\n",
    "Now we will try different embedding schemes to try to improve our results. For these, we will not have to transform our existing sequence representations of the input data.\n",
    "\n",
    "First, we'll try using pretrained embeddings from GloVe. Here we will use the 100 dimension embeddings."
   ]
  },
  {
   "cell_type": "code",
   "execution_count": 81,
   "metadata": {},
   "outputs": [],
   "source": [
    "embedding_dim = 100\n",
    "\n",
    "embeddings_index = {}\n",
    "with open('data/glove.6B/glove.6B.100d.txt', 'r', encoding='utf-8') as f:\n",
    "    for line in f:\n",
    "        word, coefs = line.split(maxsplit=1)\n",
    "        coefs = np.fromstring(coefs, \"f\", sep=\" \")\n",
    "        embeddings_index[word] = coefs\n",
    "\n",
    "embedding_matrix = np.zeros((vocab_size, embedding_dim))\n",
    "for word, i in tokenizer.word_index.items():\n",
    "    embedding_vector = embeddings_index.get(word)\n",
    "    if embedding_vector is not None:\n",
    "        embedding_matrix[i] = embedding_vector"
   ]
  },
  {
   "cell_type": "code",
   "execution_count": 84,
   "metadata": {},
   "outputs": [
    {
     "name": "stdout",
     "output_type": "stream",
     "text": [
      "Epoch 1/20\n",
      "108/108 [==============================] - 35s 313ms/step - loss: 1.5724 - sparse_categorical_accuracy: 0.3604 - val_loss: 1.5046 - val_sparse_categorical_accuracy: 0.4279\n",
      "Epoch 2/20\n",
      "108/108 [==============================] - 33s 305ms/step - loss: 1.3523 - sparse_categorical_accuracy: 0.4895 - val_loss: 1.3443 - val_sparse_categorical_accuracy: 0.4836\n",
      "Epoch 3/20\n",
      "108/108 [==============================] - 39s 360ms/step - loss: 1.1245 - sparse_categorical_accuracy: 0.5918 - val_loss: 1.2351 - val_sparse_categorical_accuracy: 0.5313\n",
      "Epoch 4/20\n",
      "108/108 [==============================] - 63s 584ms/step - loss: 0.9499 - sparse_categorical_accuracy: 0.6553 - val_loss: 1.0616 - val_sparse_categorical_accuracy: 0.6015\n",
      "Epoch 5/20\n",
      "108/108 [==============================] - 52s 481ms/step - loss: 0.8097 - sparse_categorical_accuracy: 0.7046 - val_loss: 1.1271 - val_sparse_categorical_accuracy: 0.5936\n",
      "Epoch 6/20\n",
      "108/108 [==============================] - 39s 364ms/step - loss: 0.7187 - sparse_categorical_accuracy: 0.7394 - val_loss: 1.0057 - val_sparse_categorical_accuracy: 0.6303\n",
      "Epoch 7/20\n",
      "108/108 [==============================] - 43s 400ms/step - loss: 0.6236 - sparse_categorical_accuracy: 0.7721 - val_loss: 0.9603 - val_sparse_categorical_accuracy: 0.6472\n",
      "Epoch 8/20\n",
      "108/108 [==============================] - 44s 411ms/step - loss: 0.5581 - sparse_categorical_accuracy: 0.7980 - val_loss: 1.2342 - val_sparse_categorical_accuracy: 0.5555\n",
      "Epoch 9/20\n",
      "108/108 [==============================] - 39s 364ms/step - loss: 0.5054 - sparse_categorical_accuracy: 0.8179 - val_loss: 1.0519 - val_sparse_categorical_accuracy: 0.6282\n",
      "Epoch 10/20\n",
      "108/108 [==============================] - 47s 438ms/step - loss: 0.4555 - sparse_categorical_accuracy: 0.8339 - val_loss: 1.0877 - val_sparse_categorical_accuracy: 0.6512\n",
      "Epoch 11/20\n",
      "108/108 [==============================] - 52s 483ms/step - loss: 0.4117 - sparse_categorical_accuracy: 0.8510 - val_loss: 0.9938 - val_sparse_categorical_accuracy: 0.6777\n",
      "Epoch 12/20\n",
      "108/108 [==============================] - 54s 501ms/step - loss: 0.3854 - sparse_categorical_accuracy: 0.8571 - val_loss: 1.0502 - val_sparse_categorical_accuracy: 0.6719\n",
      "Epoch 13/20\n",
      "108/108 [==============================] - 55s 505ms/step - loss: 0.3569 - sparse_categorical_accuracy: 0.8698 - val_loss: 1.0568 - val_sparse_categorical_accuracy: 0.6798\n",
      "Epoch 14/20\n",
      "108/108 [==============================] - 54s 501ms/step - loss: 0.3306 - sparse_categorical_accuracy: 0.8768 - val_loss: 1.2551 - val_sparse_categorical_accuracy: 0.6518\n",
      "Epoch 15/20\n",
      "108/108 [==============================] - 54s 501ms/step - loss: 0.3112 - sparse_categorical_accuracy: 0.8871 - val_loss: 1.1873 - val_sparse_categorical_accuracy: 0.6754\n",
      "Epoch 16/20\n",
      "108/108 [==============================] - 54s 497ms/step - loss: 0.2987 - sparse_categorical_accuracy: 0.8931 - val_loss: 1.2479 - val_sparse_categorical_accuracy: 0.6501\n",
      "Epoch 17/20\n",
      "108/108 [==============================] - 54s 504ms/step - loss: 0.2839 - sparse_categorical_accuracy: 0.8984 - val_loss: 2.0406 - val_sparse_categorical_accuracy: 0.5916\n",
      "Epoch 18/20\n",
      "108/108 [==============================] - 53s 495ms/step - loss: 0.2665 - sparse_categorical_accuracy: 0.9038 - val_loss: 1.2636 - val_sparse_categorical_accuracy: 0.6614\n",
      "Epoch 19/20\n",
      "108/108 [==============================] - 53s 493ms/step - loss: 0.2519 - sparse_categorical_accuracy: 0.9067 - val_loss: 1.3850 - val_sparse_categorical_accuracy: 0.6640\n",
      "Epoch 20/20\n",
      "108/108 [==============================] - 44s 406ms/step - loss: 0.2464 - sparse_categorical_accuracy: 0.9103 - val_loss: 1.2977 - val_sparse_categorical_accuracy: 0.6667\n",
      "134/134 [==============================] - 5s 35ms/step\n",
      "\n",
      "accuracy:  0.7437033582089553\n"
     ]
    }
   ],
   "source": [
    "batch_size = 128\n",
    "num_epochs = 20\n",
    "\n",
    "model_em1 = models.Sequential()\n",
    "model_em1.add(layers.Embedding(\n",
    "    vocab_size,\n",
    "    embedding_dim,\n",
    "    embeddings_initializer=tf.keras.initializers.Constant(embedding_matrix),\n",
    "    trainable=False\n",
    "))\n",
    "model_em1.add(layers.Conv1D(128, 5, activation='relu'))\n",
    "model_em1.add(layers.MaxPooling1D(5))\n",
    "model_em1.add(layers.Conv1D(128, 5, activation='relu'))\n",
    "model_em1.add(layers.MaxPooling1D(5))\n",
    "model_em1.add(layers.GlobalMaxPooling1D())\n",
    "model_em1.add(layers.Dropout(0.5))\n",
    "model_em1.add(layers.Dense(128, activation=\"relu\"))\n",
    "model_em1.add(layers.Dense(num_classes, activation='softmax'))\n",
    "\n",
    "model_em1.compile(\n",
    "    loss='sparse_categorical_crossentropy',\n",
    "    optimizer='rmsprop',\n",
    "    metrics=['sparse_categorical_accuracy']\n",
    ")\n",
    " \n",
    "model_em1.fit(\n",
    "    x_train, y_train,\n",
    "    batch_size=batch_size,\n",
    "    epochs=num_epochs,\n",
    "    validation_split=0.2\n",
    ")\n",
    "\n",
    "pred_em1 = model_em1.predict(x_test)\n",
    "pred_em1 = np.argmax(pred_em1, axis=1)\n",
    "\n",
    "print('\\naccuracy: ', accuracy_score(y_test, pred_em1))"
   ]
  },
  {
   "cell_type": "markdown",
   "metadata": {},
   "source": [
    "This model is a clear improvement over the first CNN. This can potentially be attributed to both the more complex network topology as well as the use of the pretrained embeddings from GloVe."
   ]
  },
  {
   "cell_type": "markdown",
   "metadata": {},
   "source": [
    "We will now see if using one of GloVe's higher dimension embeddings can improve our results. We will use the 300 dimension version."
   ]
  },
  {
   "cell_type": "code",
   "execution_count": 87,
   "metadata": {},
   "outputs": [],
   "source": [
    "embedding_dim = 300\n",
    "\n",
    "embeddings_index = {}\n",
    "with open('data/glove.6B/glove.6B.300d.txt', 'r', encoding='utf-8') as f:\n",
    "    for line in f:\n",
    "        word, coefs = line.split(maxsplit=1)\n",
    "        coefs = np.fromstring(coefs, \"f\", sep=\" \")\n",
    "        embeddings_index[word] = coefs\n",
    "\n",
    "embedding_matrix = np.zeros((vocab_size, embedding_dim))\n",
    "for word, i in tokenizer.word_index.items():\n",
    "    embedding_vector = embeddings_index.get(word)\n",
    "    if embedding_vector is not None:\n",
    "        embedding_matrix[i] = embedding_vector"
   ]
  },
  {
   "cell_type": "code",
   "execution_count": 88,
   "metadata": {},
   "outputs": [
    {
     "name": "stdout",
     "output_type": "stream",
     "text": [
      "Epoch 1/20\n",
      "108/108 [==============================] - 89s 800ms/step - loss: 1.5294 - sparse_categorical_accuracy: 0.3947 - val_loss: 1.3807 - val_sparse_categorical_accuracy: 0.4655\n",
      "Epoch 2/20\n",
      "108/108 [==============================] - 95s 878ms/step - loss: 1.1716 - sparse_categorical_accuracy: 0.5610 - val_loss: 1.1656 - val_sparse_categorical_accuracy: 0.5636\n",
      "Epoch 3/20\n",
      "108/108 [==============================] - 102s 941ms/step - loss: 0.8727 - sparse_categorical_accuracy: 0.6883 - val_loss: 1.0776 - val_sparse_categorical_accuracy: 0.6224\n",
      "Epoch 4/20\n",
      "108/108 [==============================] - 102s 945ms/step - loss: 0.6758 - sparse_categorical_accuracy: 0.7606 - val_loss: 0.9550 - val_sparse_categorical_accuracy: 0.6594\n",
      "Epoch 5/20\n",
      "108/108 [==============================] - 92s 853ms/step - loss: 0.5409 - sparse_categorical_accuracy: 0.8063 - val_loss: 0.8576 - val_sparse_categorical_accuracy: 0.7112\n",
      "Epoch 6/20\n",
      "108/108 [==============================] - 84s 782ms/step - loss: 0.4466 - sparse_categorical_accuracy: 0.8447 - val_loss: 1.2581 - val_sparse_categorical_accuracy: 0.6475\n",
      "Epoch 7/20\n",
      "108/108 [==============================] - 90s 837ms/step - loss: 0.3835 - sparse_categorical_accuracy: 0.8643 - val_loss: 0.8679 - val_sparse_categorical_accuracy: 0.7083\n",
      "Epoch 8/20\n",
      "108/108 [==============================] - 88s 819ms/step - loss: 0.3299 - sparse_categorical_accuracy: 0.8836 - val_loss: 0.9771 - val_sparse_categorical_accuracy: 0.6993\n",
      "Epoch 9/20\n",
      "108/108 [==============================] - 93s 863ms/step - loss: 0.2952 - sparse_categorical_accuracy: 0.8929 - val_loss: 1.4610 - val_sparse_categorical_accuracy: 0.6565\n",
      "Epoch 10/20\n",
      "108/108 [==============================] - 97s 893ms/step - loss: 0.2805 - sparse_categorical_accuracy: 0.9001 - val_loss: 1.0690 - val_sparse_categorical_accuracy: 0.7106\n",
      "Epoch 11/20\n",
      "108/108 [==============================] - 95s 877ms/step - loss: 0.2420 - sparse_categorical_accuracy: 0.9150 - val_loss: 1.1444 - val_sparse_categorical_accuracy: 0.7057\n",
      "Epoch 12/20\n",
      "108/108 [==============================] - 92s 856ms/step - loss: 0.2236 - sparse_categorical_accuracy: 0.9185 - val_loss: 1.5131 - val_sparse_categorical_accuracy: 0.6873\n",
      "Epoch 13/20\n",
      "108/108 [==============================] - 92s 849ms/step - loss: 0.2054 - sparse_categorical_accuracy: 0.9261 - val_loss: 1.2661 - val_sparse_categorical_accuracy: 0.6932\n",
      "Epoch 14/20\n",
      "108/108 [==============================] - 93s 858ms/step - loss: 0.2096 - sparse_categorical_accuracy: 0.9275 - val_loss: 1.3126 - val_sparse_categorical_accuracy: 0.7028\n",
      "Epoch 15/20\n",
      "108/108 [==============================] - 92s 849ms/step - loss: 0.1756 - sparse_categorical_accuracy: 0.9388 - val_loss: 1.7706 - val_sparse_categorical_accuracy: 0.6771\n",
      "Epoch 16/20\n",
      "108/108 [==============================] - 92s 848ms/step - loss: 0.1772 - sparse_categorical_accuracy: 0.9365 - val_loss: 1.4497 - val_sparse_categorical_accuracy: 0.6873\n",
      "Epoch 17/20\n",
      "108/108 [==============================] - 93s 858ms/step - loss: 0.1661 - sparse_categorical_accuracy: 0.9423 - val_loss: 1.4122 - val_sparse_categorical_accuracy: 0.6908\n",
      "Epoch 18/20\n",
      "108/108 [==============================] - 89s 823ms/step - loss: 0.1610 - sparse_categorical_accuracy: 0.9429 - val_loss: 1.5872 - val_sparse_categorical_accuracy: 0.6914\n",
      "Epoch 19/20\n",
      "108/108 [==============================] - 94s 869ms/step - loss: 0.1595 - sparse_categorical_accuracy: 0.9438 - val_loss: 1.7140 - val_sparse_categorical_accuracy: 0.6862\n",
      "Epoch 20/20\n",
      "108/108 [==============================] - 92s 852ms/step - loss: 0.1462 - sparse_categorical_accuracy: 0.9481 - val_loss: 1.6737 - val_sparse_categorical_accuracy: 0.6902\n",
      "134/134 [==============================] - 12s 89ms/step\n",
      "\n",
      "accuracy:  0.7541977611940298\n"
     ]
    }
   ],
   "source": [
    "batch_size = 128\n",
    "num_epochs = 20\n",
    "\n",
    "model_em2 = models.Sequential()\n",
    "model_em2.add(layers.Embedding(\n",
    "    vocab_size,\n",
    "    embedding_dim,\n",
    "    embeddings_initializer=tf.keras.initializers.Constant(embedding_matrix),\n",
    "    trainable=False\n",
    "))\n",
    "model_em2.add(layers.Conv1D(128, 5, activation='relu'))\n",
    "model_em2.add(layers.MaxPooling1D(5))\n",
    "model_em2.add(layers.Conv1D(128, 5, activation='relu'))\n",
    "model_em2.add(layers.MaxPooling1D(5))\n",
    "model_em2.add(layers.GlobalMaxPooling1D())\n",
    "model_em2.add(layers.Dropout(0.5))\n",
    "model_em2.add(layers.Dense(128, activation=\"relu\"))\n",
    "model_em2.add(layers.Dense(num_classes, activation='softmax'))\n",
    "\n",
    "model_em2.compile(\n",
    "    loss='sparse_categorical_crossentropy',\n",
    "    optimizer='rmsprop',\n",
    "    metrics=['sparse_categorical_accuracy']\n",
    ")\n",
    " \n",
    "model_em2.fit(\n",
    "    x_train, y_train,\n",
    "    batch_size=batch_size,\n",
    "    epochs=num_epochs,\n",
    "    validation_split=0.2\n",
    ")\n",
    "\n",
    "pred_em2 = model_em2.predict(x_test)\n",
    "pred_em2 = np.argmax(pred_em2, axis=1)\n",
    "\n",
    "print('\\naccuracy: ', accuracy_score(y_test, pred_em2))"
   ]
  },
  {
   "cell_type": "markdown",
   "metadata": {},
   "source": [
    "The accuracy has slightly improved over the previous version. However, the accuracy is still less than that of the dense sequential model, indicating that the GloVe embeddings and/or CNNs are not very useful for this dataset."
   ]
  },
  {
   "cell_type": "markdown",
   "metadata": {},
   "source": [
    "We will now see if the GloVe embeddings can be used with a dense sequential network to get better results."
   ]
  },
  {
   "cell_type": "code",
   "execution_count": 96,
   "metadata": {},
   "outputs": [
    {
     "name": "stdout",
     "output_type": "stream",
     "text": [
      "Epoch 1/30\n",
      "108/108 [==============================] - 8s 59ms/step - loss: 1.5869 - sparse_categorical_accuracy: 0.3439 - val_loss: 1.6135 - val_sparse_categorical_accuracy: 0.2958\n",
      "Epoch 2/30\n",
      "108/108 [==============================] - 6s 60ms/step - loss: 1.5552 - sparse_categorical_accuracy: 0.3788 - val_loss: 1.6155 - val_sparse_categorical_accuracy: 0.2993\n",
      "Epoch 3/30\n",
      "108/108 [==============================] - 7s 61ms/step - loss: 1.4894 - sparse_categorical_accuracy: 0.4512 - val_loss: 1.5167 - val_sparse_categorical_accuracy: 0.3991\n",
      "Epoch 4/30\n",
      "108/108 [==============================] - 7s 68ms/step - loss: 1.4104 - sparse_categorical_accuracy: 0.4692 - val_loss: 1.5461 - val_sparse_categorical_accuracy: 0.3857\n",
      "Epoch 5/30\n",
      "108/108 [==============================] - 7s 68ms/step - loss: 1.3572 - sparse_categorical_accuracy: 0.4837 - val_loss: 1.4351 - val_sparse_categorical_accuracy: 0.4521\n",
      "Epoch 6/30\n",
      "108/108 [==============================] - 7s 67ms/step - loss: 1.3231 - sparse_categorical_accuracy: 0.4987 - val_loss: 1.3937 - val_sparse_categorical_accuracy: 0.4658\n",
      "Epoch 7/30\n",
      "108/108 [==============================] - 7s 65ms/step - loss: 1.2978 - sparse_categorical_accuracy: 0.5085 - val_loss: 1.4261 - val_sparse_categorical_accuracy: 0.4480\n",
      "Epoch 8/30\n",
      "108/108 [==============================] - 7s 67ms/step - loss: 1.2763 - sparse_categorical_accuracy: 0.5244 - val_loss: 1.4770 - val_sparse_categorical_accuracy: 0.4099\n",
      "Epoch 9/30\n",
      "108/108 [==============================] - 8s 70ms/step - loss: 1.2665 - sparse_categorical_accuracy: 0.5251 - val_loss: 1.3479 - val_sparse_categorical_accuracy: 0.4969\n",
      "Epoch 10/30\n",
      "108/108 [==============================] - 7s 67ms/step - loss: 1.2513 - sparse_categorical_accuracy: 0.5358 - val_loss: 1.3416 - val_sparse_categorical_accuracy: 0.5022\n",
      "Epoch 11/30\n",
      "108/108 [==============================] - 7s 64ms/step - loss: 1.2333 - sparse_categorical_accuracy: 0.5426 - val_loss: 1.3334 - val_sparse_categorical_accuracy: 0.5063\n",
      "Epoch 12/30\n",
      "108/108 [==============================] - 7s 67ms/step - loss: 1.2093 - sparse_categorical_accuracy: 0.5550 - val_loss: 1.4417 - val_sparse_categorical_accuracy: 0.4591\n",
      "Epoch 13/30\n",
      "108/108 [==============================] - 7s 69ms/step - loss: 1.1941 - sparse_categorical_accuracy: 0.5558 - val_loss: 1.3334 - val_sparse_categorical_accuracy: 0.5007\n",
      "Epoch 14/30\n",
      "108/108 [==============================] - 7s 68ms/step - loss: 1.1750 - sparse_categorical_accuracy: 0.5587 - val_loss: 1.3311 - val_sparse_categorical_accuracy: 0.5089\n",
      "Epoch 15/30\n",
      "108/108 [==============================] - 7s 69ms/step - loss: 1.1573 - sparse_categorical_accuracy: 0.5644 - val_loss: 1.2850 - val_sparse_categorical_accuracy: 0.5130\n",
      "Epoch 16/30\n",
      "108/108 [==============================] - 7s 70ms/step - loss: 1.1382 - sparse_categorical_accuracy: 0.5736 - val_loss: 1.3782 - val_sparse_categorical_accuracy: 0.4585\n",
      "Epoch 17/30\n",
      "108/108 [==============================] - 7s 68ms/step - loss: 1.1304 - sparse_categorical_accuracy: 0.5733 - val_loss: 1.3432 - val_sparse_categorical_accuracy: 0.4812\n",
      "Epoch 18/30\n",
      "108/108 [==============================] - 7s 69ms/step - loss: 1.1168 - sparse_categorical_accuracy: 0.5817 - val_loss: 1.3470 - val_sparse_categorical_accuracy: 0.4771\n",
      "Epoch 19/30\n",
      "108/108 [==============================] - 8s 70ms/step - loss: 1.1038 - sparse_categorical_accuracy: 0.5864 - val_loss: 1.2672 - val_sparse_categorical_accuracy: 0.5092\n",
      "Epoch 20/30\n",
      "108/108 [==============================] - 7s 69ms/step - loss: 1.0946 - sparse_categorical_accuracy: 0.5874 - val_loss: 1.2726 - val_sparse_categorical_accuracy: 0.5103\n",
      "Epoch 21/30\n",
      "108/108 [==============================] - 7s 68ms/step - loss: 1.0833 - sparse_categorical_accuracy: 0.5908 - val_loss: 1.3228 - val_sparse_categorical_accuracy: 0.4929\n",
      "Epoch 22/30\n",
      "108/108 [==============================] - 7s 69ms/step - loss: 1.0788 - sparse_categorical_accuracy: 0.5936 - val_loss: 1.2533 - val_sparse_categorical_accuracy: 0.5211\n",
      "Epoch 23/30\n",
      "108/108 [==============================] - 7s 67ms/step - loss: 1.0730 - sparse_categorical_accuracy: 0.5976 - val_loss: 1.2633 - val_sparse_categorical_accuracy: 0.5191\n",
      "Epoch 24/30\n",
      "108/108 [==============================] - 7s 69ms/step - loss: 1.0613 - sparse_categorical_accuracy: 0.5982 - val_loss: 1.2588 - val_sparse_categorical_accuracy: 0.5138\n",
      "Epoch 25/30\n",
      "108/108 [==============================] - 7s 67ms/step - loss: 1.0544 - sparse_categorical_accuracy: 0.6037 - val_loss: 1.3446 - val_sparse_categorical_accuracy: 0.4608\n",
      "Epoch 26/30\n",
      "108/108 [==============================] - 7s 68ms/step - loss: 1.0496 - sparse_categorical_accuracy: 0.6029 - val_loss: 1.2331 - val_sparse_categorical_accuracy: 0.5226\n",
      "Epoch 27/30\n",
      "108/108 [==============================] - 7s 68ms/step - loss: 1.0461 - sparse_categorical_accuracy: 0.6069 - val_loss: 1.3440 - val_sparse_categorical_accuracy: 0.5045\n",
      "Epoch 28/30\n",
      "108/108 [==============================] - 7s 67ms/step - loss: 1.0393 - sparse_categorical_accuracy: 0.6077 - val_loss: 1.2683 - val_sparse_categorical_accuracy: 0.5095\n",
      "Epoch 29/30\n",
      "108/108 [==============================] - 7s 68ms/step - loss: 1.0320 - sparse_categorical_accuracy: 0.6089 - val_loss: 1.2146 - val_sparse_categorical_accuracy: 0.5380\n",
      "Epoch 30/30\n",
      "108/108 [==============================] - 8s 70ms/step - loss: 1.0253 - sparse_categorical_accuracy: 0.6150 - val_loss: 1.4162 - val_sparse_categorical_accuracy: 0.4926\n",
      "134/134 [==============================] - 3s 18ms/step\n",
      "\n",
      "accuracy:  0.5396455223880597\n"
     ]
    }
   ],
   "source": [
    "batch_size = 128\n",
    "num_epochs = 30\n",
    "\n",
    "model_em3 = models.Sequential()\n",
    "model_em3.add(layers.Embedding(\n",
    "    vocab_size,\n",
    "    embedding_dim,\n",
    "    embeddings_initializer=tf.keras.initializers.Constant(embedding_matrix),\n",
    "    trainable=False\n",
    "))\n",
    "model_em3.add(layers.GlobalMaxPooling1D())\n",
    "model_em3.add(layers.Dense(32, kernel_initializer='normal', activation='relu'))\n",
    "model_em3.add(layers.Dense(32, kernel_initializer='normal', activation='relu'))\n",
    "model_em3.add(layers.Dense(num_classes, kernel_initializer='normal', activation='softmax'))\n",
    "\n",
    "model_em3.compile(\n",
    "    loss='sparse_categorical_crossentropy',\n",
    "    optimizer='rmsprop',\n",
    "    metrics=['sparse_categorical_accuracy']\n",
    ")\n",
    " \n",
    "model_em3.fit(\n",
    "    x_train, y_train,\n",
    "    batch_size=batch_size,\n",
    "    epochs=num_epochs,\n",
    "    validation_split=0.2\n",
    ")\n",
    "\n",
    "pred_em3 = model_em3.predict(x_test)\n",
    "pred_em3 = np.argmax(pred_em3, axis=1)\n",
    "\n",
    "print('\\naccuracy: ', accuracy_score(y_test, pred_em3))"
   ]
  },
  {
   "cell_type": "markdown",
   "metadata": {},
   "source": [
    "This model is unfortunately the worst so far. It suggests that using an embedding without a CNN or RNN does not really add value."
   ]
  },
  {
   "cell_type": "markdown",
   "metadata": {},
   "source": [
    "Now we will try to use vectorizations as a basis for our embeddings rather than tokenizations."
   ]
  },
  {
   "cell_type": "code",
   "execution_count": 101,
   "metadata": {},
   "outputs": [
    {
     "name": "stdout",
     "output_type": "stream",
     "text": [
      "Epoch 1/20\n",
      "108/108 [==============================] - 27s 227ms/step - loss: 1.5891 - sparse_categorical_accuracy: 0.3292 - val_loss: 1.6143 - val_sparse_categorical_accuracy: 0.3162\n",
      "Epoch 2/20\n",
      "108/108 [==============================] - 21s 196ms/step - loss: 1.4435 - sparse_categorical_accuracy: 0.3893 - val_loss: 1.2660 - val_sparse_categorical_accuracy: 0.4969\n",
      "Epoch 3/20\n",
      "108/108 [==============================] - 21s 197ms/step - loss: 0.8360 - sparse_categorical_accuracy: 0.6765 - val_loss: 1.0228 - val_sparse_categorical_accuracy: 0.5991\n",
      "Epoch 4/20\n",
      "108/108 [==============================] - 22s 206ms/step - loss: 0.4476 - sparse_categorical_accuracy: 0.8310 - val_loss: 0.8150 - val_sparse_categorical_accuracy: 0.7051\n",
      "Epoch 5/20\n",
      "108/108 [==============================] - 22s 201ms/step - loss: 0.2415 - sparse_categorical_accuracy: 0.9208 - val_loss: 0.8044 - val_sparse_categorical_accuracy: 0.7205\n",
      "Epoch 6/20\n",
      "108/108 [==============================] - 21s 198ms/step - loss: 0.1758 - sparse_categorical_accuracy: 0.9439 - val_loss: 0.8403 - val_sparse_categorical_accuracy: 0.7397\n",
      "Epoch 7/20\n",
      "108/108 [==============================] - 22s 200ms/step - loss: 0.1272 - sparse_categorical_accuracy: 0.9570 - val_loss: 0.8109 - val_sparse_categorical_accuracy: 0.7354\n",
      "Epoch 8/20\n",
      "108/108 [==============================] - 22s 200ms/step - loss: 0.0999 - sparse_categorical_accuracy: 0.9672 - val_loss: 0.8779 - val_sparse_categorical_accuracy: 0.7377\n",
      "Epoch 9/20\n",
      "108/108 [==============================] - 24s 223ms/step - loss: 0.0755 - sparse_categorical_accuracy: 0.9750 - val_loss: 0.9467 - val_sparse_categorical_accuracy: 0.7397\n",
      "Epoch 10/20\n",
      "108/108 [==============================] - 26s 242ms/step - loss: 0.0604 - sparse_categorical_accuracy: 0.9804 - val_loss: 0.9529 - val_sparse_categorical_accuracy: 0.7354\n",
      "Epoch 11/20\n",
      "108/108 [==============================] - 45s 417ms/step - loss: 0.0494 - sparse_categorical_accuracy: 0.9848 - val_loss: 0.9872 - val_sparse_categorical_accuracy: 0.7389\n",
      "Epoch 12/20\n",
      "108/108 [==============================] - 55s 508ms/step - loss: 0.0401 - sparse_categorical_accuracy: 0.9868 - val_loss: 1.0320 - val_sparse_categorical_accuracy: 0.7377\n",
      "Epoch 13/20\n",
      "108/108 [==============================] - 23s 210ms/step - loss: 0.0349 - sparse_categorical_accuracy: 0.9890 - val_loss: 1.0991 - val_sparse_categorical_accuracy: 0.7400\n",
      "Epoch 14/20\n",
      "108/108 [==============================] - 20s 183ms/step - loss: 0.0328 - sparse_categorical_accuracy: 0.9902 - val_loss: 1.1438 - val_sparse_categorical_accuracy: 0.7319\n",
      "Epoch 15/20\n",
      "108/108 [==============================] - 22s 206ms/step - loss: 0.0270 - sparse_categorical_accuracy: 0.9907 - val_loss: 1.1041 - val_sparse_categorical_accuracy: 0.7394\n",
      "Epoch 16/20\n",
      "108/108 [==============================] - 36s 334ms/step - loss: 0.0254 - sparse_categorical_accuracy: 0.9921 - val_loss: 1.1492 - val_sparse_categorical_accuracy: 0.7365\n",
      "Epoch 17/20\n",
      "108/108 [==============================] - 40s 368ms/step - loss: 0.0204 - sparse_categorical_accuracy: 0.9936 - val_loss: 1.1962 - val_sparse_categorical_accuracy: 0.7397\n",
      "Epoch 18/20\n",
      "108/108 [==============================] - 30s 279ms/step - loss: 0.0193 - sparse_categorical_accuracy: 0.9939 - val_loss: 1.2036 - val_sparse_categorical_accuracy: 0.7383\n",
      "Epoch 19/20\n",
      "108/108 [==============================] - 27s 254ms/step - loss: 0.0182 - sparse_categorical_accuracy: 0.9935 - val_loss: 1.2196 - val_sparse_categorical_accuracy: 0.7336\n",
      "Epoch 20/20\n",
      "108/108 [==============================] - 29s 265ms/step - loss: 0.0187 - sparse_categorical_accuracy: 0.9934 - val_loss: 1.2705 - val_sparse_categorical_accuracy: 0.7354\n",
      "134/134 [==============================] - 3s 22ms/step\n",
      "\n",
      "accuracy:  0.8708022388059702\n"
     ]
    }
   ],
   "source": [
    "from tensorflow.keras.layers.experimental.preprocessing import TextVectorization\n",
    "\n",
    "max_len = 200\n",
    "batch_size = 128\n",
    "num_epochs = 20\n",
    "embedding_dim = 128\n",
    "\n",
    "vectorizer = TextVectorization(max_tokens=vocab_size, output_sequence_length=max_len)\n",
    "text_ds = tf.data.Dataset.from_tensor_slices(train.Text).batch(batch_size)\n",
    "vectorizer.adapt(text_ds)\n",
    "\n",
    "voc = vectorizer.get_vocabulary()\n",
    "word_index = dict(zip(voc, range(len(voc))))\n",
    "\n",
    "x_train = vectorizer(np.array([[s] for s in train.Text])).numpy()\n",
    "x_test = vectorizer(np.array([[s] for s in test.Text])).numpy()\n",
    "\n",
    "model_em4 = models.Sequential()\n",
    "model_em4.add(layers.Embedding(len(word_index) + 1, embedding_dim, input_length=max_len))\n",
    "model_em4.add(layers.Conv1D(128, 5, activation='relu'))\n",
    "model_em4.add(layers.MaxPooling1D(5))\n",
    "model_em4.add(layers.Conv1D(128, 5, activation='relu'))\n",
    "model_em4.add(layers.MaxPooling1D(5))\n",
    "model_em4.add(layers.GlobalMaxPooling1D())\n",
    "model_em4.add(layers.Dropout(0.5))\n",
    "model_em4.add(layers.Dense(128, activation=\"relu\"))\n",
    "model_em4.add(layers.Dense(num_classes, activation='softmax'))\n",
    "\n",
    "model_em4.compile(\n",
    "    loss='sparse_categorical_crossentropy',\n",
    "    optimizer='rmsprop',\n",
    "    metrics=['sparse_categorical_accuracy']\n",
    ")\n",
    " \n",
    "model_em4.fit(\n",
    "    x_train, y_train,\n",
    "    batch_size=batch_size,\n",
    "    epochs=num_epochs,\n",
    "    validation_split=0.2\n",
    ")\n",
    "\n",
    "pred_em4 = model_em4.predict(x_test)\n",
    "pred_em4 = np.argmax(pred_em4, axis=1)\n",
    "\n",
    "print('\\naccuracy: ', accuracy_score(y_test, pred_em4))"
   ]
  },
  {
   "cell_type": "markdown",
   "metadata": {},
   "source": [
    "This model slightly outperformed our original model."
   ]
  },
  {
   "cell_type": "markdown",
   "metadata": {},
   "source": [
    "### Analysis\n",
    "\n",
    "The best models were the dense sequential network and the last CNN, which utilized vectorizations of the input data. The sequential network likely outperformed most of the CNNs because looking for the presence or absence of words already gives a solid foundation for judging the sentiment of a text.\n",
    "\n",
    "However, the CNNs may in general have been able to perform better if they were given more training time. For all but the last CNN tested, the increase in accuracy between epochs had yet to significantly plateau. Thus, it is likely that all the CNNs in this notebook are not performing at their most optimal level. The number of epochs was cut down in the interest of time, but it is clear that CNNs simply take a longer time to achieve better results.\n",
    "\n",
    "Using pretrained embeddings definitely provides some value. Switching from the 100 dimension to 300 dimension versions of GloVe slightly improved performance, and as stated previously, all the CNNs may perform better if given more epochs to train. The true value of the GloVe embeddings may also be more apparent if RNNs were used on this dataset. However, RNNs were avoided simply because the training time is too long."
   ]
  }
 ],
 "metadata": {
  "kernelspec": {
   "display_name": "Python 3.10.8 64-bit",
   "language": "python",
   "name": "python3"
  },
  "language_info": {
   "codemirror_mode": {
    "name": "ipython",
    "version": 3
   },
   "file_extension": ".py",
   "mimetype": "text/x-python",
   "name": "python",
   "nbconvert_exporter": "python",
   "pygments_lexer": "ipython3",
   "version": "3.10.8"
  },
  "orig_nbformat": 4,
  "vscode": {
   "interpreter": {
    "hash": "26de051ba29f2982a8de78e945f0abaf191376122a1563185a90213a26c5da77"
   }
  }
 },
 "nbformat": 4,
 "nbformat_minor": 2
}
